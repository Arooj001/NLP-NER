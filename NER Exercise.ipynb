{
 "cells": [
  {
   "cell_type": "markdown",
   "id": "2e9a9693",
   "metadata": {},
   "source": [
    "***Importing Library***"
   ]
  },
  {
   "cell_type": "code",
   "execution_count": 1,
   "id": "b3922b7d",
   "metadata": {},
   "outputs": [],
   "source": [
    "import spacy \n",
    "\n",
    "nlp = spacy.load(\"en_core_web_sm\")"
   ]
  },
  {
   "cell_type": "markdown",
   "id": "122b8e5a",
   "metadata": {},
   "source": [
    "# Excersie: 1\n",
    "* ***Extract all the Geographical (cities, Countries, states) names from a given text***"
   ]
  },
  {
   "cell_type": "code",
   "execution_count": 2,
   "id": "681c85dd",
   "metadata": {},
   "outputs": [],
   "source": [
    "text = \"\"\"Kiran want to know the famous foods in each state of Pakistan. So, he opened Google and search for this \n",
    "question. Google showed that in Lahore it is Chaat, in Gujarat it is Dal Dhokli, in Islamabad it is Chicken, in \n",
    "Andhrapradesh it is Biryani, in Assam it is Papaya Khar, in Bihar it is Litti Chowkha and so on for all other states\"\"\"\n",
    "\n",
    "doc = nlp(text)"
   ]
  },
  {
   "cell_type": "code",
   "execution_count": 6,
   "id": "39c82f51",
   "metadata": {},
   "outputs": [
    {
     "name": "stdout",
     "output_type": "stream",
     "text": [
      "Geographical Location Names:  [Pakistan, Lahore, Gujarat, Islamabad, Andhrapradesh, Assam, Bihar]\n",
      "Count:  7\n"
     ]
    }
   ],
   "source": [
    "geographical_entities = []\n",
    "\n",
    "for ent in doc.ents:\n",
    "    if ent.label_ == 'GPE':\n",
    "        geographical_entities.append(ent)\n",
    "        \n",
    "print(\"Geographical Location Names: \", geographical_entities)\n",
    "print(\"Count: \", len(geographical_entities))"
   ]
  },
  {
   "cell_type": "markdown",
   "id": "22cc40ac",
   "metadata": {},
   "source": [
    "# Excersie: 2\n",
    "* ***Extract all the birth dates of cricketers in the given Text***"
   ]
  },
  {
   "cell_type": "code",
   "execution_count": 7,
   "id": "c4ae5b74",
   "metadata": {},
   "outputs": [],
   "source": [
    "text = \"\"\"Sachin Tendulkar was born on 24 April 1973, Virat Kholi was born on 5 November 1988, \n",
    "Dhoni was born on 7 July 1981 and finally Ricky ponting was born on 19 December 1974.\"\"\"\n",
    "\n",
    "doc = nlp(text)"
   ]
  },
  {
   "cell_type": "code",
   "execution_count": 8,
   "id": "a9ec2314",
   "metadata": {},
   "outputs": [
    {
     "name": "stdout",
     "output_type": "stream",
     "text": [
      "Birth Date of Cricketers:  [24 April 1973, 5 November 1988, 7 July 1981, 19 December 1974]\n",
      "Count:  4\n"
     ]
    }
   ],
   "source": [
    "birth_dates = []\n",
    "\n",
    "for ent in doc.ents:\n",
    "    if ent.label_ == 'DATE':\n",
    "        birth_dates.append(ent)\n",
    "        \n",
    "print(\"Birth Date of Cricketers: \", birth_dates)\n",
    "print(\"Count: \", len(birth_dates))"
   ]
  }
 ],
 "metadata": {
  "kernelspec": {
   "display_name": "Python 3 (ipykernel)",
   "language": "python",
   "name": "python3"
  },
  "language_info": {
   "codemirror_mode": {
    "name": "ipython",
    "version": 3
   },
   "file_extension": ".py",
   "mimetype": "text/x-python",
   "name": "python",
   "nbconvert_exporter": "python",
   "pygments_lexer": "ipython3",
   "version": "3.11.5"
  }
 },
 "nbformat": 4,
 "nbformat_minor": 5
}
